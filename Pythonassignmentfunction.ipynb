{
 "cells": [
  {
   "cell_type": "markdown",
   "id": "151214c6-ae36-4543-a168-e00258a3db48",
   "metadata": {},
   "source": [
    "1. Which keyword is used to create a function? Create a function to return a list of odd numbers in the\n",
    "range of 1 to 25."
   ]
  },
  {
   "cell_type": "markdown",
   "id": "5f9fa3d9-7ba6-4a2b-af99-0f796b4168c7",
   "metadata": {},
   "source": [
    "Ans:- The keyword used to create a function is typically \"def\"."
   ]
  },
  {
   "cell_type": "code",
   "execution_count": 1,
   "id": "ea2cba33-c7b4-4fbb-bf0f-fbcc9d99f826",
   "metadata": {},
   "outputs": [
    {
     "name": "stdout",
     "output_type": "stream",
     "text": [
      "[1, 3, 5, 7, 9, 11, 13, 15, 17, 19, 21, 23, 25]\n"
     ]
    }
   ],
   "source": [
    "def get_odd_numbers():\n",
    "    odd_numbers = []\n",
    "    for num in range(1, 26):\n",
    "        if num % 2 != 0:\n",
    "            odd_numbers.append(num)\n",
    "    return odd_numbers\n",
    "\n",
    "# Calling the function\n",
    "result = get_odd_numbers()\n",
    "print(result)"
   ]
  },
  {
   "cell_type": "markdown",
   "id": "ed842f5d-b58b-4ab9-95dc-742bab6411d7",
   "metadata": {},
   "source": [
    "2. Why *args and **kwargs is used in some functions? Create a function each for *args and **kwargs to\n",
    "demonstrate their use."
   ]
  },
  {
   "cell_type": "markdown",
   "id": "09087cc6-114c-43c9-94b8-7a454ada8f1e",
   "metadata": {},
   "source": [
    "Ans:- In Python, *args and **kwargs are used to handle variable-length arguments in functions.\n",
    "\n",
    "The args syntax allows a function to accept any number of positional arguments. It collects all the positional arguments passed to the function into a tuple. This is useful when the number of arguments is not known in advance. The name args is arbitrary and can be changed, but the asterisk () is required.\n",
    "\n",
    "Here's an example function that uses *args to concatenate the given arguments into a single string:\n",
    "\n",
    "def concatenate(*args):\n",
    "    result = \"\"\n",
    "    for arg in args:\n",
    "        result += arg\n",
    "    return result\n",
    "\n",
    "# Calling the function\n",
    "output = concatenate(\"Hello\", \" \", \"World\", \"!\")\n",
    "print(output)\n",
    "The output of this function call will be \"Hello World!\".\n",
    "\n",
    "On the other hand, kwargs stands for keyword arguments. It allows a function to accept any number of keyword arguments in the form of key-value pairs. These arguments are collected into a dictionary. The name kwargs is arbitrary and can be changed, but the double asterisks () are required.\n",
    "\n",
    "Here's an example function that uses **kwargs to print the given key-value pairs:\n",
    "\n",
    "def print_details(**kwargs):\n",
    "    for key, value in kwargs.items():\n",
    "        print(key + \": \" + str(value))\n",
    "\n",
    "# Calling the function\n",
    "print_details(name=\"John\", age=25, city=\"New York\")\n",
    "The output of this function call will be:\n",
    "\n",
    "name: John\n",
    "age: 25\n",
    "city: New York\n",
    "In this example, the function print_details accepts keyword arguments. Each argument is printed with its corresponding value. The arguments can be passed in any order, and the function can accept any number of keyword arguments.\n",
    "\n",
    "Both *args and **kwargs provide flexibility when defining functions that need to handle varying numbers of arguments. They are especially useful when designing generic functions or when you're unsure about the number of arguments that will be passed to a function."
   ]
  },
  {
   "cell_type": "markdown",
   "id": "1fe2bbd5-3c9b-49fe-b4ec-2561ea3cb1d1",
   "metadata": {},
   "source": [
    "3. What is an iterator in python? Name the method used to initialise the iterator object and the method\n",
    "used for iteration. Use these methods to print the first five elements of the given list [2, 4, 6, 8, 10, 12, 14, 16,\n",
    "18, 20]."
   ]
  },
  {
   "cell_type": "markdown",
   "id": "75cd3cfa-30f5-498c-8359-82a62e9689c9",
   "metadata": {},
   "source": [
    "Python, an iterator is an object that implements the iterator protocol, which consists of the __iter__() method for initializing the iterator object and the __next__() method for iterating over the elements.\n",
    "\n",
    "To print the first five elements of a list using an iterator, you can use the iter() function to initialize the iterator object and then use the next() function to iterate over the elements.\n",
    "\n",
    "Here's an example:\n",
    "\n",
    "my_list = [2, 4, 6, 8, 10, 12, 14, 16, 18, 20]\n",
    "\n",
    "# Initialize the iterator object\n",
    "my_iterator = iter(my_list)\n",
    "\n",
    "# Iterate and print the first five elements\n",
    "for _ in range(5):\n",
    "    element = next(my_iterator)\n",
    "    print(element)\n",
    "Output:\n",
    "\n",
    "Copy code\n",
    "2\n",
    "4\n",
    "6\n",
    "8\n",
    "10\n",
    "In this example, the iter() function is used to initialize the iterator object my_iterator from the given list my_list. Then, in the for loop, we use the next() function to fetch the next element from the iterator and print it. We repeat this process five times to print the first five elements of the list.\n",
    "\n",
    "Note that we use the underscore _ as a throwaway variable since we don't need to store the loop counter value. We're only interested in iterating over the elements."
   ]
  },
  {
   "cell_type": "markdown",
   "id": "31720611-40a8-4a60-952c-bb8a0e8bb35c",
   "metadata": {},
   "source": [
    "4. What is a generator function in python? Why yield keyword is used? Give an example of a generator\n",
    "function."
   ]
  },
  {
   "cell_type": "markdown",
   "id": "545cef25-dc77-4383-859f-6b0e2034e64a",
   "metadata": {},
   "source": [
    "Ans:- Python, a generator function is a special type of function that returns an iterator, known as a generator. It allows you to define an iterative algorithm by writing a single function, rather than creating a separate class with __iter__() and __next__() methods.\n",
    "\n",
    "The key feature of a generator function is the use of the yield keyword. When the generator function is called, it returns a generator object. Each time the yield keyword is encountered within the function, it temporarily suspends the function's execution and returns a value to the caller. The state of the function is then saved, allowing it to resume from where it left off when the next value is requested.\n",
    "\n",
    "The yield keyword is used to produce a series of values one at a time, without creating the entire sequence at once. It allows the generator function to generate values on-the-fly, conserving memory and improving performance in scenarios where generating all values at once would be inefficient.\n",
    "\n",
    "Here's an example of a generator function that generates a sequence of even numbers up to a given limit:\n",
    "\n",
    "def even_numbers(limit):\n",
    "    num = 0\n",
    "    while num <= limit:\n",
    "        yield num\n",
    "        num += 2\n",
    "\n",
    "# Using the generator function\n",
    "my_generator = even_numbers(10)\n",
    "\n",
    "# Printing the generated values\n",
    "for number in my_generator:\n",
    "    print(number)\n",
    "    \n",
    "Output:\n",
    "0\n",
    "2\n",
    "4\n",
    "6\n",
    "8\n",
    "10\n",
    "In this example, the even_numbers() function is a generator function that yields even numbers incrementing by 2 in each iteration. When the function is called with the limit of 10, it returns a generator object. The for loop then iterates over the generator, printing each generated even number.\n",
    "\n",
    "Note that the generator function does not generate all even numbers at once. It produces one value at a time as requested, resulting in efficient memory usage and allowing the program to work with large or infinite sequences without loading everything into memory."
   ]
  },
  {
   "cell_type": "markdown",
   "id": "8633b91d-f4ef-45b9-8840-e43062726fa2",
   "metadata": {
    "tags": []
   },
   "source": [
    "5. Create a generator function for prime numbers less than 1000. Use the next() method to print the\n",
    "first 20 prime numbers."
   ]
  },
  {
   "cell_type": "code",
   "execution_count": 11,
   "id": "8f527909-acbc-4049-9003-71b9bbaf2c77",
   "metadata": {},
   "outputs": [],
   "source": [
    "def primenumbers(limit):\n",
    "    num = 0\n",
    "    while num < limit:\n",
    "        p =0\n",
    "        if num == 0 or num == 2 or num == 1:\n",
    "            yield num\n",
    "            num += 1\n",
    "        else:\n",
    "            for i in range(2,int(num/2+1)):\n",
    "                if num%i == 0:\n",
    "                    p = 1\n",
    "                    num += 1\n",
    "                    break\n",
    "            if p == 0:\n",
    "                yield num\n",
    "                num += 1\n",
    "            else:\n",
    "                p = 0\n",
    "                \n",
    "# Using the generator function\n",
    "my_generator = primenumbers(1000)"
   ]
  },
  {
   "cell_type": "code",
   "execution_count": 12,
   "id": "a23761af-e712-4fe4-b76c-96178a89acb8",
   "metadata": {},
   "outputs": [],
   "source": [
    "# for number in my_generator:\n",
    "    # print(number)"
   ]
  },
  {
   "cell_type": "code",
   "execution_count": 13,
   "id": "b3b34859-090f-43ec-9050-318195b48ac6",
   "metadata": {},
   "outputs": [
    {
     "name": "stdout",
     "output_type": "stream",
     "text": [
      "0\n",
      "1\n",
      "2\n",
      "3\n",
      "5\n",
      "7\n",
      "11\n",
      "13\n",
      "17\n",
      "19\n",
      "23\n",
      "29\n",
      "31\n",
      "37\n",
      "41\n",
      "43\n",
      "47\n",
      "53\n",
      "59\n",
      "61\n"
     ]
    }
   ],
   "source": [
    "# Iterate and print the first five elements\n",
    "for _ in range(20):\n",
    "    print(next(my_generator))"
   ]
  }
 ],
 "metadata": {
  "kernelspec": {
   "display_name": "Python 3 (ipykernel)",
   "language": "python",
   "name": "python3"
  },
  "language_info": {
   "codemirror_mode": {
    "name": "ipython",
    "version": 3
   },
   "file_extension": ".py",
   "mimetype": "text/x-python",
   "name": "python",
   "nbconvert_exporter": "python",
   "pygments_lexer": "ipython3",
   "version": "3.10.8"
  }
 },
 "nbformat": 4,
 "nbformat_minor": 5
}
