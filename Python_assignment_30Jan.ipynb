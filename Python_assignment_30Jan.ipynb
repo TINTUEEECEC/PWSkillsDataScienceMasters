{
 "cells": [
  {
   "cell_type": "markdown",
   "id": "500598e1-c5ed-4c02-828e-ded13649b4cd",
   "metadata": {},
   "source": [
    "Question 1: Write a program to accept percentage and display grade accordingly?"
   ]
  },
  {
   "cell_type": "code",
   "execution_count": 18,
   "id": "44f4daca-d79e-4697-846e-4a638b661ab2",
   "metadata": {},
   "outputs": [
    {
     "name": "stdin",
     "output_type": "stream",
     "text": [
      "Please enter the percentage of marks Scored 59.99999\n"
     ]
    },
    {
     "name": "stdout",
     "output_type": "stream",
     "text": [
      "Congrats you Secured D grade\n"
     ]
    }
   ],
   "source": [
    "Percentage = float(input(\"Please enter the percentage of marks Scored\"))\n",
    "if Percentage>90:\n",
    "    print(\"Congrats you Secured A grade\")\n",
    "elif (Percentage>80 and Percentage<=90):\n",
    "    print(\"Congrats you Secured B grade\")\n",
    "elif (Percentage>=60 and Percentage<=80):\n",
    "    print(\"Congrats you Secured C grade\")\n",
    "else:\n",
    "    print(\"Congrats you Secured D grade\")"
   ]
  },
  {
   "cell_type": "markdown",
   "id": "0e91c7df-a696-4dc5-991b-63332f58e102",
   "metadata": {},
   "source": [
    "Question 2: Write a program to accept cost price of the bike and display the road tax to be paid?"
   ]
  },
  {
   "cell_type": "code",
   "execution_count": 19,
   "id": "61e00b95-5970-46d8-a77f-60192f06220b",
   "metadata": {},
   "outputs": [
    {
     "name": "stdin",
     "output_type": "stream",
     "text": [
      "Please Enter the cost price of the bike 49000\n"
     ]
    },
    {
     "name": "stdout",
     "output_type": "stream",
     "text": [
      "Tax rate is 5% and you have to pay tax of  2450.0  Rupees.\n"
     ]
    }
   ],
   "source": [
    "Costprice = float(input(\"Please Enter the cost price of the bike\"))\n",
    "if Costprice>100000:\n",
    "    print(\"Tax rate is 15% and you have to pay tax of \",round(Costprice*0.15,2),\" Rupees.\")\n",
    "elif (Costprice>50000 and Costprice<=100000):\n",
    "    print(\"Tax rate is 10% and you have to pay tax of \",round(Costprice*0.10,2),\" Rupees.\")\n",
    "else:\n",
    "    print(\"Tax rate is 5% and you have to pay tax of \",round(Costprice*0.05,2),\" Rupees.\")"
   ]
  },
  {
   "cell_type": "markdown",
   "id": "f6572d9c-391e-4f4a-8565-63245d05cdd5",
   "metadata": {},
   "source": [
    "Question 3: Accept any city from the user and display monuments of the city?"
   ]
  },
  {
   "cell_type": "code",
   "execution_count": 20,
   "id": "20fcfd74-dbce-4329-97c2-956ea961bf1a",
   "metadata": {},
   "outputs": [
    {
     "name": "stdin",
     "output_type": "stream",
     "text": [
      "Please enter the city to find the monument jaipur\n"
     ]
    },
    {
     "name": "stdout",
     "output_type": "stream",
     "text": [
      "Jaipur city has the monument Jal Mahal \n"
     ]
    }
   ],
   "source": [
    "City = input(\"Please enter the city to find the monument\")\n",
    "if City.upper()==\"DELHI\":\n",
    "    print(\"Delhi city has the monument Red Fort \")\n",
    "elif City.upper()==\"AGRA\":\n",
    "    print(\"Agra city has the monument Taj Mahal \")\n",
    "elif City.upper()==\"JAIPUR\":\n",
    "    print(\"Jaipur city has the monument Jal Mahal \")\n",
    "else:\n",
    "    print(\"Please enter a valid city\")"
   ]
  },
  {
   "cell_type": "markdown",
   "id": "e1a9733f-fa79-4f5b-94a6-08c2ed13e490",
   "metadata": {},
   "source": [
    "Question 4: How many times a given number can be divided by 3 before it is less than or equal to 10?"
   ]
  },
  {
   "cell_type": "code",
   "execution_count": 22,
   "id": "497b4b00-4469-44f6-a864-f0a7cb46ad80",
   "metadata": {},
   "outputs": [
    {
     "name": "stdin",
     "output_type": "stream",
     "text": [
      "Please enter the number 108\n"
     ]
    },
    {
     "name": "stdout",
     "output_type": "stream",
     "text": [
      "3\n"
     ]
    }
   ],
   "source": [
    "number = int(input(\"Please enter the number\"))\n",
    "count = 0\n",
    "while number > 10:\n",
    "    if number%3 == 0:\n",
    "        number/=3\n",
    "        count+=1\n",
    "    else:\n",
    "        break\n",
    "print(count)"
   ]
  },
  {
   "cell_type": "markdown",
   "id": "a4ef3ef2-3d80-4940-8f44-efe18cd25eab",
   "metadata": {},
   "source": [
    "Question 5: why and when to use while loop with example?"
   ]
  },
  {
   "cell_type": "code",
   "execution_count": 12,
   "id": "6b8c6976-b109-4a4a-9884-33efc3a0603f",
   "metadata": {},
   "outputs": [
    {
     "name": "stdout",
     "output_type": "stream",
     "text": [
      "1\n",
      "2\n",
      "3\n",
      "4\n",
      "5\n"
     ]
    },
    {
     "data": {
      "text/plain": [
       "' Here the loop executes till the value of i is less than or equal to 5 once the value of i crosses 5 loop will stop '"
      ]
     },
     "execution_count": 12,
     "metadata": {},
     "output_type": "execute_result"
    }
   ],
   "source": [
    "\"\"\" Python while loop is used to run a block code until a certain condition is met \n",
    " and we dont know how many times it need to iterate\n",
    " \"\"\"\n",
    "# initialize the variable\n",
    "i = 1\n",
    "n = 5\n",
    "# while loop from i = 1 to 5\n",
    "while i <= n:\n",
    "    print(i)\n",
    "    i = i + 1\n",
    "\"\"\" Here the loop executes till the value of i is less than or equal to 5 once the value of i crosses 5 loop will stop \"\"\""
   ]
  },
  {
   "cell_type": "markdown",
   "id": "d0364480-d2bc-4c5d-bfe6-ed27b9ff57ba",
   "metadata": {},
   "source": [
    "Question 6: use nested while loop to print 3 different pattern?"
   ]
  },
  {
   "cell_type": "code",
   "execution_count": 1,
   "id": "38f20a17-0047-4a74-97b2-6c3980d5c279",
   "metadata": {},
   "outputs": [
    {
     "name": "stdin",
     "output_type": "stream",
     "text": [
      "Enter number of rows :  10\n"
     ]
    },
    {
     "name": "stdout",
     "output_type": "stream",
     "text": [
      "* \n",
      "* * \n",
      "* * * \n",
      "* * * * \n",
      "* * * * * \n",
      "* * * * * * \n",
      "* * * * * * * \n",
      "* * * * * * * * \n",
      "* * * * * * * * * \n",
      "* * * * * * * * * * \n"
     ]
    }
   ],
   "source": [
    "n = int(input('Enter number of rows : '))\n",
    "i = 1\n",
    "while i <= n :\n",
    "    j = 1\n",
    "    while j <= i:\n",
    "        print(\"*\", end = \" \")\n",
    "        j += 1\n",
    "    print()\n",
    "    i += 1"
   ]
  },
  {
   "cell_type": "code",
   "execution_count": 2,
   "id": "c94c3830-3884-445f-9579-684a90b093d1",
   "metadata": {},
   "outputs": [
    {
     "name": "stdin",
     "output_type": "stream",
     "text": [
      "Enter number of rows :  10\n"
     ]
    },
    {
     "name": "stdout",
     "output_type": "stream",
     "text": [
      "* * * * * * * * * * \n",
      "* * * * * * * * * \n",
      "* * * * * * * * \n",
      "* * * * * * * \n",
      "* * * * * * \n",
      "* * * * * \n",
      "* * * * \n",
      "* * * \n",
      "* * \n",
      "* \n"
     ]
    }
   ],
   "source": [
    "n = int(input('Enter number of rows : '))\n",
    "i = 1\n",
    "while i <= n :\n",
    "    j = n\n",
    "    while j >= i:\n",
    "        print(\"*\", end = \" \")\n",
    "        j -= 1\n",
    "    print()\n",
    "    i += 1"
   ]
  },
  {
   "cell_type": "code",
   "execution_count": 7,
   "id": "3e2c16f8-4bfa-4857-9d33-c46baab4f4df",
   "metadata": {},
   "outputs": [
    {
     "name": "stdin",
     "output_type": "stream",
     "text": [
      "Enter the number of rows:  10\n"
     ]
    },
    {
     "name": "stdout",
     "output_type": "stream",
     "text": [
      "         *\n",
      "        **\n",
      "       ***\n",
      "      ****\n",
      "     *****\n",
      "    ******\n",
      "   *******\n",
      "  ********\n",
      " *********\n",
      "**********\n"
     ]
    }
   ],
   "source": [
    "def pattern(n):\n",
    "   i = 1\n",
    "   while i<=n:\n",
    "      # printing stars\n",
    "      print(\" \"*(n-i) + \"*\" * i)\n",
    "      i+=1 \n",
    " \n",
    "# take inputs\n",
    "n = int(input('Enter the number of rows: '))\n",
    "\n",
    "# calling function\n",
    "pattern(n)"
   ]
  },
  {
   "cell_type": "markdown",
   "id": "0f868b11-fbbb-4dae-b7b2-a215362207ff",
   "metadata": {},
   "source": [
    "Question 7: Reverse a while loop to display from 10 to 1"
   ]
  },
  {
   "cell_type": "code",
   "execution_count": 8,
   "id": "f40a5f04-c73c-4be2-842f-d33527d99cab",
   "metadata": {},
   "outputs": [
    {
     "name": "stdout",
     "output_type": "stream",
     "text": [
      "10\n",
      "9\n",
      "8\n",
      "7\n",
      "6\n",
      "5\n",
      "4\n",
      "3\n",
      "2\n",
      "1\n"
     ]
    }
   ],
   "source": [
    "i = 10\n",
    "while i > 0:\n",
    "    print(i)\n",
    "    i-=1"
   ]
  },
  {
   "cell_type": "markdown",
   "id": "786e66be-e1c0-49a0-ab39-63bb3f875594",
   "metadata": {},
   "source": [
    "Question 8: Reverse a while loop to display from 10 to 1"
   ]
  },
  {
   "cell_type": "code",
   "execution_count": 9,
   "id": "516bb712-3429-4aed-81dc-13e55ff1d598",
   "metadata": {},
   "outputs": [
    {
     "name": "stdout",
     "output_type": "stream",
     "text": [
      "10\n",
      "9\n",
      "8\n",
      "7\n",
      "6\n",
      "5\n",
      "4\n",
      "3\n",
      "2\n",
      "1\n"
     ]
    }
   ],
   "source": [
    "i = 10\n",
    "while i > 0:\n",
    "    print(i)\n",
    "    i-=1"
   ]
  }
 ],
 "metadata": {
  "kernelspec": {
   "display_name": "Python 3 (ipykernel)",
   "language": "python",
   "name": "python3"
  },
  "language_info": {
   "codemirror_mode": {
    "name": "ipython",
    "version": 3
   },
   "file_extension": ".py",
   "mimetype": "text/x-python",
   "name": "python",
   "nbconvert_exporter": "python",
   "pygments_lexer": "ipython3",
   "version": "3.10.8"
  }
 },
 "nbformat": 4,
 "nbformat_minor": 5
}
