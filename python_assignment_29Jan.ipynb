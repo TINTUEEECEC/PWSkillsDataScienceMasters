{
 "cells": [
  {
   "cell_type": "markdown",
   "id": "dc4f8eb5-a734-4743-9bdd-e4615c817609",
   "metadata": {},
   "source": [
    "Who developed python language?    Ans:- Guido van Rossum"
   ]
  },
  {
   "cell_type": "markdown",
   "id": "9bc7a1f5-f556-400a-ab35-573f41b91799",
   "metadata": {},
   "source": [
    "Which type of programming does python support? Ans:- Object oriented and structured pogramming"
   ]
  },
  {
   "cell_type": "markdown",
   "id": "98001020-9053-4ff1-bd80-1f9642ebcd86",
   "metadata": {},
   "source": [
    "Is python case sensitive when dealing with identifier? Ans:- Yes"
   ]
  },
  {
   "cell_type": "markdown",
   "id": "24bfef21-5e04-47b5-b00b-59bc6a9a13a0",
   "metadata": {},
   "source": [
    "What is the correct extension of the python file? Ans:- .py"
   ]
  },
  {
   "cell_type": "markdown",
   "id": "2764f991-8b6c-4d54-bf87-a82cb3c14010",
   "metadata": {},
   "source": [
    "Is python code compiled or interpreted? Ans:- Interpreted"
   ]
  },
  {
   "cell_type": "markdown",
   "id": "d5ab6acc-3430-4ea1-aa47-cad75d7b8e1c",
   "metadata": {},
   "source": [
    "Name a few blocks of code used to define in python language? Ans:- module, function body, class definition"
   ]
  },
  {
   "cell_type": "markdown",
   "id": "c69c88a3-70ad-44fc-aa0a-93107b58bdc8",
   "metadata": {},
   "source": [
    "State a character used to give single line comment in python? Ans:- #"
   ]
  },
  {
   "cell_type": "markdown",
   "id": "fcb0469f-51a3-41a4-993b-af7479eb6435",
   "metadata": {},
   "source": [
    "Mention functions which can help us to find the version of python that we are currently working on.\n",
    "Ans:-\n",
    "Using sys.version method\n",
    "Using python_version() function\n",
    "Using Python -V command"
   ]
  },
  {
   "cell_type": "markdown",
   "id": "d46213a7-a727-48ae-a896-7d5f788788b5",
   "metadata": {},
   "source": [
    "Python supports the creation of anonymous functions at runtime using a construct called? \n",
    "Ans:- lambda"
   ]
  },
  {
   "cell_type": "markdown",
   "id": "ebfd8fc6-8568-426b-9aa1-03df31a696ed",
   "metadata": {},
   "source": [
    "What does pip stands for?\n",
    "Ans:- Preferred Installer Program or pip Install Packages"
   ]
  },
  {
   "cell_type": "markdown",
   "id": "8fd6d8f6-43d8-4842-b0fe-7dae809255d6",
   "metadata": {},
   "source": [
    "Mention few built in functions in python? Ans:- input(), print(), len(),str()"
   ]
  },
  {
   "cell_type": "markdown",
   "id": "8937ff1a-183c-49cd-b9a8-c61f5118fad7",
   "metadata": {},
   "source": [
    "Maximum possible length of an identifier in python? Ans:- 79"
   ]
  },
  {
   "cell_type": "markdown",
   "id": "79fb4db8-be52-414e-a8c4-3e912636f594",
   "metadata": {},
   "source": [
    "What are the benefits of using python?\n",
    "Ans:-\n",
    "Data science.\n",
    "Scientific and mathematical computing.\n",
    "Web development.\n",
    "Finance and trading.\n",
    "System automation and administration.\n",
    "Computer graphics.\n",
    "Basic game development.\n",
    "Security and penetration testing."
   ]
  },
  {
   "cell_type": "markdown",
   "id": "b814589d-eddb-45d2-bf39-b85cb632f17a",
   "metadata": {},
   "source": [
    "How is memory managed in python?\n",
    "Ans:- Memory management in Python involves a private heap containing all Python objects and data structures. \n",
    "The management of this private heap is ensured internally by the Python memory manager."
   ]
  },
  {
   "cell_type": "markdown",
   "id": "99f34427-7ce5-428c-9691-9f5d37049738",
   "metadata": {},
   "source": [
    "How to install python on windows and set path variable?\n",
    "\n",
    "1. Open a browser to the Python website and download the Windows installer.\n",
    "2. Double click on the downloaded file and install Python for all users, and ensure that Python is added to your path. Click on Install now to begin.\n",
    "3. After the installation is complete, click Disable path length limit and then Close.\n",
    "4. Click Close to end the installation.\n",
    "\n",
    "To set path variable\n",
    "1. Right-clicking This PC and going to Properties.\n",
    "2. Clicking on the Advanced system settings in the menu on the left.\n",
    "3. Clicking on the Environment Variables button on the bottom right.\n",
    "4. In the System variables section, selecting the Path variable and clicking on Edit. The next screen will show all the directories that are currently a part of the PATH variable.\n",
    "5. Clicking on New and entering Python’s install directory."
   ]
  },
  {
   "cell_type": "markdown",
   "id": "4e3a804d-ac8c-40c4-8e1b-0adeb4933529",
   "metadata": {},
   "source": [
    "Is indentation required in python? Ans:- Yes."
   ]
  }
 ],
 "metadata": {
  "kernelspec": {
   "display_name": "Python 3 (ipykernel)",
   "language": "python",
   "name": "python3"
  },
  "language_info": {
   "codemirror_mode": {
    "name": "ipython",
    "version": 3
   },
   "file_extension": ".py",
   "mimetype": "text/x-python",
   "name": "python",
   "nbconvert_exporter": "python",
   "pygments_lexer": "ipython3",
   "version": "3.10.8"
  }
 },
 "nbformat": 4,
 "nbformat_minor": 5
}
