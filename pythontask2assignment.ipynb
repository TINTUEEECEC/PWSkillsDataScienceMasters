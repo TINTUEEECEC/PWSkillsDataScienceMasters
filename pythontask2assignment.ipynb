{
 "cells": [
  {
   "cell_type": "markdown",
   "id": "1d5a856d-3a58-4a69-81e5-96146323bc3e",
   "metadata": {},
   "source": [
    "Question \n",
    "1. You are writing code for a company. The requirement of the company is that you create a python\n",
    "function that will check whether the password entered by the user is correct or not. The function should\n",
    "take the password as input and return the string “Valid Password” if the entered password follows the\n",
    "below-given password guidelines else it should return “Invalid Password”.\n",
    "Note: 1. The Password should contain at least two uppercase letters and at least two lowercase letters.\n",
    "2. The Password should contain at least a number and three special characters.\n",
    "3. The length of the password should be 10 characters long."
   ]
  },
  {
   "cell_type": "code",
   "execution_count": 1,
   "id": "8c276228-f6c0-48fe-806d-e80ff825a5b9",
   "metadata": {},
   "outputs": [
    {
     "name": "stdin",
     "output_type": "stream",
     "text": [
      "Please enter the password ABcd1$#&2X\n"
     ]
    },
    {
     "name": "stdout",
     "output_type": "stream",
     "text": [
      "<re.Match object; span=(0, 1), match='$'>\n",
      "$\n",
      "<re.Match object; span=(0, 1), match='#'>\n",
      "#\n",
      "<re.Match object; span=(0, 1), match='&'>\n",
      "&\n"
     ]
    },
    {
     "data": {
      "text/plain": [
       "'Valid Password'"
      ]
     },
     "execution_count": 1,
     "metadata": {},
     "output_type": "execute_result"
    }
   ],
   "source": [
    "import re\n",
    "def passwordcheck(password):\n",
    "    uppercar = 0\n",
    "    lowercar = 0\n",
    "    specialchat = 0\n",
    "    numbercount = 0\n",
    "    for i in password:\n",
    "        if i.isupper() == True:\n",
    "            uppercar+=1\n",
    "        if i.islower() == True:\n",
    "            lowercar+=1\n",
    "    if uppercar < 2 or lowercar < 2:\n",
    "        return \"Invalid Password\"\n",
    "    if len(password) != 10:\n",
    "        return \"Invalid Password\"\n",
    "    regex = re.compile('[@_!#$%^&*()<>?/\\|}{~:]') \n",
    "    for i in password:\n",
    "        if(regex.search(i) == None):\n",
    "            pass\n",
    "        else:\n",
    "            print(regex.search(i))\n",
    "            print(i)\n",
    "            specialchat += 1\n",
    "    if specialchat <3:\n",
    "        return \"Invalid Password\"\n",
    "    for i in password:\n",
    "        if i.isnumeric() == True:\n",
    "            numbercount+=1\n",
    "    if numbercount <1:\n",
    "        return \"Invalid Password\"\n",
    "    return \"Valid Password\"\n",
    "password = input(\"Please enter the password\")\n",
    "passwordcheck(password)"
   ]
  },
  {
   "cell_type": "markdown",
   "id": "e89b00e2-abbb-4da1-b5c1-a220df1283cc",
   "metadata": {},
   "source": [
    "Question 2. Solve the below-given questions using at least one of the following:\n",
    "1. Lambda function\n",
    "2. Filter function\n",
    "3. Map function\n",
    "4. List Comprehension\n",
    "B Check if the string starts with a particular letter.\n",
    "B Check if the string is numeric.\n",
    "B Sort a list of tuples having fruit names and their quantity. [(\"mango\",99),(\"orange\",80), (\"grapes\", 1000)]\n",
    "B Find the squares of numbers from 1 to 10.\n",
    "B Find the cube root of numbers from 1 to 10.\n",
    "B Check if a given number is even.\n",
    "B Filter odd numbers from the given list.\n",
    "[1,2,3,4,5,6,7,8,9,10]\n",
    "B Sort a list of integers into positive and negative integers lists.\n",
    "[1,2,3,4,5,6,-1,-2,-3,-4,-5,0]"
   ]
  },
  {
   "cell_type": "code",
   "execution_count": 14,
   "id": "ea0f67c0-e128-4cf7-b462-202c030137ec",
   "metadata": {},
   "outputs": [
    {
     "name": "stdout",
     "output_type": "stream",
     "text": [
      "String starts with i\n",
      "String not starts with i\n"
     ]
    }
   ],
   "source": [
    "# Check if the string starts with a particular letter.\n",
    "# string = \"Ibin\"\n",
    "# Check if string startswith character n\n",
    "# print(string.startswith('i'))\n",
    "# print(string.startswith('I'))\n",
    "stringstartccheck = lambda x : \"String starts with i\" if x.startswith('i')==True else \"String not starts with i\"\n",
    "print(stringstartccheck('i'))\n",
    "print(stringstartccheck('I'))"
   ]
  },
  {
   "cell_type": "code",
   "execution_count": 15,
   "id": "58354ca1-67c3-4bc1-a113-a27338a98bcc",
   "metadata": {},
   "outputs": [
    {
     "name": "stdout",
     "output_type": "stream",
     "text": [
      "Nonnumeric\n",
      "Numeric\n"
     ]
    }
   ],
   "source": [
    "# Check if the string is numeric.\n",
    "# string = \"Ibin\"\n",
    "# print(string.isnumeric())\n",
    "# string1 = \"12345\"\n",
    "# print(string1.isnumeric())\n",
    "numericcheck = lambda x : \"Numeric\" if x.isnumeric()==True else \"Nonnumeric\"\n",
    "print(numericcheck(\"Ibin\"))\n",
    "print(numericcheck(\"12345\"))"
   ]
  },
  {
   "cell_type": "code",
   "execution_count": 16,
   "id": "01290877-1213-4a26-afde-c5e13d8ee432",
   "metadata": {},
   "outputs": [
    {
     "name": "stdout",
     "output_type": "stream",
     "text": [
      "[('orange', 80), ('mango', 99), ('grapes', 1000)]\n"
     ]
    }
   ],
   "source": [
    "# Sort a list of tuples having fruit names and their quantity. [(\"mango\",99),(\"orange\",80), (\"grapes\", 1000)]\n",
    "l = [(\"mango\",99),(\"orange\",80), (\"grapes\", 1000)]\n",
    "sorted_data = sorted(l, key=lambda x: x[1])\n",
    "print(sorted_data)"
   ]
  },
  {
   "cell_type": "code",
   "execution_count": 17,
   "id": "4a8d1a93-c7e3-4c4f-b69a-93ca779cacfb",
   "metadata": {},
   "outputs": [
    {
     "data": {
      "text/plain": [
       "[1, 4, 9, 16, 25, 36, 49, 64, 81, 100]"
      ]
     },
     "execution_count": 17,
     "metadata": {},
     "output_type": "execute_result"
    }
   ],
   "source": [
    "# Find the squares of numbers from 1 to 10\n",
    "[x**2 for x in range(1,11)]"
   ]
  },
  {
   "cell_type": "code",
   "execution_count": 18,
   "id": "05d523c0-61e3-4b66-aa60-422785e291cf",
   "metadata": {},
   "outputs": [
    {
     "data": {
      "text/plain": [
       "[1.0,\n",
       " 1.2599210498948734,\n",
       " 1.4422495703074083,\n",
       " 1.5874010519681996,\n",
       " 1.7099759466766968,\n",
       " 1.8171205928321394,\n",
       " 1.9129311827723894,\n",
       " 2.0,\n",
       " 2.080083823051904,\n",
       " 2.1544346900318834]"
      ]
     },
     "execution_count": 18,
     "metadata": {},
     "output_type": "execute_result"
    }
   ],
   "source": [
    "# Find the cube root of numbers from 1 to 10.\n",
    "import numpy as np\n",
    "[np.cbrt(x) for x in range(1,11)]"
   ]
  },
  {
   "cell_type": "code",
   "execution_count": 19,
   "id": "36cf0ce9-563e-4aab-82fb-3993948b1687",
   "metadata": {},
   "outputs": [
    {
     "data": {
      "text/plain": [
       "'Even'"
      ]
     },
     "execution_count": 19,
     "metadata": {},
     "output_type": "execute_result"
    }
   ],
   "source": [
    "# Check if a given number is even.\n",
    "evencheck = lambda x : \"Even\" if x%2==0 else \"odd\"\n",
    "evencheck(4)"
   ]
  },
  {
   "cell_type": "code",
   "execution_count": 20,
   "id": "39c1cef1-28cd-41a2-a194-4ec04c1fb9ec",
   "metadata": {},
   "outputs": [
    {
     "data": {
      "text/plain": [
       "[1, 3, 5, 7, 9]"
      ]
     },
     "execution_count": 20,
     "metadata": {},
     "output_type": "execute_result"
    }
   ],
   "source": [
    "# Filter odd numbers from the given list. [1,2,3,4,5,6,7,8,9,10] \n",
    "l = [1,2,3,4,5,6,7,8,9,10] \n",
    "list(filter(lambda x : x % 2 !=0 , l))"
   ]
  },
  {
   "cell_type": "code",
   "execution_count": 21,
   "id": "17cec97f-ce1b-4c7e-97e3-b25f876d3855",
   "metadata": {},
   "outputs": [
    {
     "name": "stdout",
     "output_type": "stream",
     "text": [
      "[1, 2, 3, 4, 5, 6, 0]\n",
      "[-1, -2, -3, -4, -5]\n"
     ]
    }
   ],
   "source": [
    "# Sort a list of integers into positive and negative integers lists. [1,2,3,4,5,6,-1,-2,-3,-4,-5,0]\n",
    "l = [1,2,3,4,5,6,-1,-2,-3,-4,-5,0]\n",
    "positive = list(filter(lambda x : x>=0 , l))\n",
    "negative = list(filter(lambda x : x<0 , l))\n",
    "print(positive)\n",
    "print(negative)"
   ]
  }
 ],
 "metadata": {
  "kernelspec": {
   "display_name": "Python 3 (ipykernel)",
   "language": "python",
   "name": "python3"
  },
  "language_info": {
   "codemirror_mode": {
    "name": "ipython",
    "version": 3
   },
   "file_extension": ".py",
   "mimetype": "text/x-python",
   "name": "python",
   "nbconvert_exporter": "python",
   "pygments_lexer": "ipython3",
   "version": "3.10.8"
  }
 },
 "nbformat": 4,
 "nbformat_minor": 5
}
