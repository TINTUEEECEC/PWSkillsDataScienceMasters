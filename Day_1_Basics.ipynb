{
 "cells": [
  {
   "cell_type": "code",
   "execution_count": 1,
   "id": "197476bc-6492-4ef3-88c0-b6cddc7993fa",
   "metadata": {},
   "outputs": [
    {
     "data": {
      "text/plain": [
       "10"
      ]
     },
     "execution_count": 1,
     "metadata": {},
     "output_type": "execute_result"
    }
   ],
   "source": [
    "a = 10\n",
    "a"
   ]
  },
  {
   "cell_type": "code",
   "execution_count": 2,
   "id": "bf1e484a-cedb-43b0-94ac-32f0b99a3aa5",
   "metadata": {},
   "outputs": [
    {
     "name": "stdout",
     "output_type": "stream",
     "text": [
      "10\n"
     ]
    }
   ],
   "source": [
    "print(a)"
   ]
  },
  {
   "cell_type": "markdown",
   "id": "ff4f619f-9003-4e73-b4a3-dae548884056",
   "metadata": {},
   "source": [
    "# This is MArkdown\n",
    "## This is markdown\n",
    "### This is markdown"
   ]
  },
  {
   "cell_type": "code",
   "execution_count": 3,
   "id": "4627b46c-eddd-4493-a709-65febd918add",
   "metadata": {},
   "outputs": [],
   "source": [
    "# This is a comment line"
   ]
  },
  {
   "cell_type": "code",
   "execution_count": 5,
   "id": "8ea892a5-1698-43a7-a8eb-5f23fcc833cb",
   "metadata": {},
   "outputs": [
    {
     "data": {
      "text/plain": [
       "10"
      ]
     },
     "execution_count": 5,
     "metadata": {},
     "output_type": "execute_result"
    }
   ],
   "source": [
    "\"\"\"\n",
    "Multi line comment\n",
    "\n",
    "\"\"\"\n",
    "a"
   ]
  },
  {
   "cell_type": "markdown",
   "id": "1099f7b9-df68-4466-af16-040a222dcca5",
   "metadata": {},
   "source": [
    "# Numbers"
   ]
  },
  {
   "cell_type": "code",
   "execution_count": 6,
   "id": "488e7143-7f58-4338-af4b-9987d47d4eb5",
   "metadata": {},
   "outputs": [
    {
     "data": {
      "text/plain": [
       "4"
      ]
     },
     "execution_count": 6,
     "metadata": {},
     "output_type": "execute_result"
    }
   ],
   "source": [
    "1+3"
   ]
  },
  {
   "cell_type": "code",
   "execution_count": 7,
   "id": "41773f50-b554-4644-8523-e8f76d7c9bbf",
   "metadata": {},
   "outputs": [
    {
     "name": "stdout",
     "output_type": "stream",
     "text": [
      "4\n"
     ]
    }
   ],
   "source": [
    "print(1+3)"
   ]
  },
  {
   "cell_type": "markdown",
   "id": "d26f6f9d-66c3-4671-9a99-c93f8c6d38e2",
   "metadata": {
    "tags": []
   },
   "source": [
    "### Shift + tab will give the details of the functionality."
   ]
  },
  {
   "cell_type": "code",
   "execution_count": 8,
   "id": "3d862e1a-1e5b-4738-a159-83ef0ce88752",
   "metadata": {},
   "outputs": [
    {
     "data": {
      "text/plain": [
       "False"
      ]
     },
     "execution_count": 8,
     "metadata": {},
     "output_type": "execute_result"
    }
   ],
   "source": [
    "a=0\n",
    "bool(a)"
   ]
  },
  {
   "cell_type": "code",
   "execution_count": 10,
   "id": "464341a8-cdff-4dad-8426-eb616c8afac8",
   "metadata": {},
   "outputs": [
    {
     "data": {
      "text/plain": [
       "True"
      ]
     },
     "execution_count": 10,
     "metadata": {},
     "output_type": "execute_result"
    }
   ],
   "source": [
    "a =1\n",
    "bool(a)"
   ]
  },
  {
   "cell_type": "markdown",
   "id": "f610312a-c6f0-41cc-9111-264b9e6056aa",
   "metadata": {},
   "source": [
    "## Dynamic typing"
   ]
  },
  {
   "cell_type": "code",
   "execution_count": null,
   "id": "625baab8-312a-46dc-8832-7bc45178f5fd",
   "metadata": {},
   "outputs": [],
   "source": []
  }
 ],
 "metadata": {
  "kernelspec": {
   "display_name": "Python 3 (ipykernel)",
   "language": "python",
   "name": "python3"
  },
  "language_info": {
   "codemirror_mode": {
    "name": "ipython",
    "version": 3
   },
   "file_extension": ".py",
   "mimetype": "text/x-python",
   "name": "python",
   "nbconvert_exporter": "python",
   "pygments_lexer": "ipython3",
   "version": "3.10.8"
  }
 },
 "nbformat": 4,
 "nbformat_minor": 5
}
