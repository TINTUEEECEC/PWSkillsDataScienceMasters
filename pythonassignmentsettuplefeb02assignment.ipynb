{
 "cells": [
  {
   "cell_type": "markdown",
   "id": "50cf21f9-7dee-4587-8094-152ee53770ae",
   "metadata": {},
   "source": [
    "1. What are the characteristics of the tuples? Is tuple immutable?"
   ]
  },
  {
   "cell_type": "markdown",
   "id": "7c4606d8-7c45-4441-b8e2-75851aa11aa0",
   "metadata": {},
   "source": [
    "Ans:  A tuple is an ordered collection of elements, typically of different types. Tuples are similar to lists in some ways, but they have a few key differences.\n",
    "Here are the characteristics of tuples:\n",
    "\n",
    "Ordered: The elements in a tuple are ordered, meaning they have a specific position or index within the tuple.\n",
    "\n",
    "Heterogeneous: Tuples can contain elements of different data types. For example, a tuple could contain an integer, a string, and a boolean value all in the same tuple.\n",
    "\n",
    "Immutable: Tuples are immutable, which means their elements cannot be modified once the tuple is created. You cannot add, remove, or change individual elements of a tuple. However, you can create a new tuple with modified elements if needed.\n",
    "\n",
    "Indexed: Elements in a tuple can be accessed using their index values. The indexing starts from 0, where the first element has an index of 0, the second element has an index of 1, and so on.\n",
    "\n",
    "Arbitrary Length: Tuples can have any number of elements, including zero. An empty tuple is represented by ()."
   ]
  },
  {
   "cell_type": "markdown",
   "id": "d0f90acb-3463-4554-a15c-1db52c7f542d",
   "metadata": {},
   "source": [
    "2. What are the two tuple methods in python? Give an example of each method. Give a reason why tuples have only two in-built methods as compared to Lists."
   ]
  },
  {
   "cell_type": "markdown",
   "id": "da1de1a7-b4c3-44f2-ac52-52b273b683d2",
   "metadata": {},
   "source": [
    "Ans: In Python, tuples have two built-in methods:\n",
    "\n",
    "count(): This method returns the number of occurrences of a specified value in a tuple.\n",
    "\n",
    "Example:\n",
    "my_tuple = (1, 2, 3, 2, 4, 2)\n",
    "count = my_tuple.count(2)\n",
    "print(count)  # Output: 3\n",
    "In the example above, the count() method is used to count the occurrences of the value 2 in the my_tuple. It returns the count, which is 3 in this case.\n",
    "\n",
    "index(): This method returns the index of the first occurrence of a specified value in a tuple.\n",
    "\n",
    "Example:\n",
    "my_tuple = (1, 2, 3, 2, 4, 2)\n",
    "index = my_tuple.index(3)\n",
    "print(index)  # Output: 2\n",
    "In the example above, the index() method is used to find the index of the value 3 in the my_tuple. It returns the index, which is 2 in this case.\n",
    "\n",
    "\n",
    "In Python, tuples have two built-in methods:\n",
    "\n",
    "count(): This method returns the number of occurrences of a specified value in a tuple.\n",
    "\n",
    "Example:\n",
    "\n",
    "python\n",
    "Copy code\n",
    "my_tuple = (1, 2, 3, 2, 4, 2)\n",
    "count = my_tuple.count(2)\n",
    "print(count)  # Output: 3\n",
    "In the example above, the count() method is used to count the occurrences of the value 2 in the my_tuple. It returns the count, which is 3 in this case.\n",
    "\n",
    "index(): This method returns the index of the first occurrence of a specified value in a tuple.\n",
    "\n",
    "Example:\n",
    "\n",
    "python\n",
    "Copy code\n",
    "my_tuple = (1, 2, 3, 2, 4, 2)\n",
    "index = my_tuple.index(3)\n",
    "print(index)  # Output: 2\n",
    "In the example above, the index() method is used to find the index of the value 3 in the my_tuple. It returns the index, which is 2 in this case.\n",
    "\n",
    "Now, let's discuss why tuples have only two built-in methods compared to lists:\n",
    "\n",
    "Immutability: Tuples are immutable, meaning their elements cannot be modified once the tuple is created. Since tuples are designed to be unchangeable, there is no need for methods that would modify or manipulate the tuple's content. Hence, methods like append(), insert(), or remove() are not available for tuples.\n",
    "\n",
    "Performance: Tuples are more memory-efficient compared to lists because of their immutability. This immutability allows tuples to be stored more efficiently in memory. By providing only essential methods, Python avoids unnecessary overhead associated with managing mutable operations on tuples, resulting in better performance.\n",
    "\n",
    "In contrast, lists are mutable, allowing elements to be added, removed, or modified. Thus, lists have a broader range of built-in methods that facilitate manipulation, such as append(), insert(), remove(), pop(), and more.\n",
    "\n",
    "The design choice of having limited methods for tuples aligns with their intended use as fixed, unchangeable collections of data, while lists are meant to be flexible and dynamic containers."
   ]
  },
  {
   "cell_type": "markdown",
   "id": "08f82cac-d9e1-411f-b461-36879d06196e",
   "metadata": {},
   "source": [
    "3. Which collection datatypes in python do not allow duplicate items? Write a code using a set to remove\n",
    "duplicates from the given list.\n",
    "List = [1, 1, 1, 2, 1, 3, 1, 4, 2, 1, 2, 2, 2, 3, 2, 4, 3, 1, 3, 2, 3, 3, 3, 4, 4, 1, 4, 2, 4, 3, 4, 4]"
   ]
  },
  {
   "cell_type": "markdown",
   "id": "101d22f0-a898-4bc3-8ad9-e3d1bbe7a7a2",
   "metadata": {},
   "source": [
    "Ans:- Set wont allow duplicate elements.\n",
    "L1 = [1, 1, 1, 2, 1, 3, 1, 4, 2, 1, 2, 2, 2, 3, 2, 4, 3, 1, 3, 2, 3, 3, 3, 4, 4, 1, 4, 2, 4, 3, 4, 4]\n",
    "list(set(L1))\n",
    "###### output = [1, 2, 3, 4]"
   ]
  },
  {
   "cell_type": "markdown",
   "id": "13c22d89-8305-457c-b3fc-71f5845cb2ff",
   "metadata": {},
   "source": [
    "4. Explain the difference between the union() and update() methods for a set. Give an example of\n",
    "each method."
   ]
  },
  {
   "cell_type": "markdown",
   "id": "4651c51b-4c73-467f-8f63-da747329901a",
   "metadata": {},
   "source": [
    "Ans:- Both union() and update() are methods used with sets in Python, but they have some differences in their behavior.\n",
    "\n",
    "union() method:\n",
    "\n",
    "The union() method returns a new set that contains all the unique elements from the original set as well as the elements from other sets.\n",
    "It does not modify the original set or any other sets involved in the operation.\n",
    "The resulting set contains the distinct elements from all the sets combined, eliminating any duplicates.\n",
    "The union() method can accept one or more sets as arguments.\n",
    "Example:\n",
    "\n",
    "python\n",
    "Copy code\n",
    "set1 = {1, 2, 3}\n",
    "set2 = {3, 4, 5}\n",
    "set3 = {5, 6, 7}\n",
    "\n",
    "union_set = set1.union(set2, set3)\n",
    "print(union_set)\n",
    "Output:\n",
    "\n",
    "Copy code\n",
    "{1, 2, 3, 4, 5, 6, 7}\n",
    "In the example above, the union() method is used to create a new set union_set that contains all the unique elements from set1, set2, and set3.\n",
    "\n",
    "update() method:\n",
    "\n",
    "The update() method modifies the original set by adding all the elements from another set or iterable to it.\n",
    "It updates the set in place and does not return a new set.\n",
    "Any duplicate elements from the other set or iterable are ignored, as sets do not allow duplicate elements.\n",
    "Example:\n",
    "\n",
    "python\n",
    "Copy code\n",
    "set1 = {1, 2, 3}\n",
    "set2 = {3, 4, 5}\n",
    "\n",
    "set1.update(set2)\n",
    "print(set1)\n",
    "Output:\n",
    "\n",
    "Copy code\n",
    "{1, 2, 3, 4, 5}\n",
    "In the example above, the update() method is used to add all the elements from set2 to set1. The resulting set1 contains all the elements from both sets without any duplicates.\n",
    "\n",
    "In summary, the key difference between union() and update() methods is that union() returns a new set containing the combined unique elements from multiple sets without modifying the original sets, while update() modifies the original set by adding elements from another set or iterable in-place, ignoring any duplicates."
   ]
  },
  {
   "cell_type": "markdown",
   "id": "deb8e70b-8898-46ed-a918-0470d2b246d6",
   "metadata": {},
   "source": [
    "5. What is a dictionary? Give an example. Also, state whether a dictionary is ordered or unordered."
   ]
  },
  {
   "cell_type": "markdown",
   "id": "b7f1c7ec-f10d-44ba-bc56-3864571ada0d",
   "metadata": {},
   "source": [
    "Ans:- dictionary is a collection of key-value pairs. It is also known as an associative array or a hash map. Dictionaries are mutable, meaning their elements can be modified after creation. They are used to store and retrieve data based on a unique key rather than an index.\n",
    "\n",
    "Here's an example of a dictionary in Python:\n",
    "student = {\n",
    "    \"name\": \"John\",\n",
    "    \"age\": 20,\n",
    "    \"grade\": \"A\"\n",
    "}\n",
    "\n",
    "In the above example, student is a dictionary that stores information about a student. The dictionary has three key-value pairs: \"name\" mapped to \"John\", \"age\" mapped to 20, and \"grade\" mapped to \"A\". Each key-value pair is separated by a colon, and the pairs are enclosed in curly braces."
   ]
  },
  {
   "cell_type": "markdown",
   "id": "4c677b23-e3c8-498a-b638-737cb16ec732",
   "metadata": {},
   "source": [
    "6. Can we create a nested dictionary? If so, please give an example by creating a simple one-level\n",
    "nested dictionary."
   ]
  },
  {
   "cell_type": "markdown",
   "id": "cd9ee3d6-31da-4095-b0b6-59c1d3213157",
   "metadata": {},
   "source": [
    "Ans:- Yes, we can create a nested dictionary in Python. A nested dictionary is a dictionary where the values can be dictionaries themselves, creating a hierarchical structure.\n",
    "\n",
    "Here's an example of a simple one-level nested dictionary:\n",
    "\n",
    "\n",
    "student = {\n",
    "    \"name\": \"John\",\n",
    "    \"age\": 20,\n",
    "    \"grades\": {\n",
    "        \"math\": 85,\n",
    "        \"science\": 90,\n",
    "        \"history\": 75\n",
    "    }\n",
    "}\n",
    "In the above example, the student dictionary contains three key-value pairs. The \"name\" and \"age\" keys have string and integer values, respectively. The \"grades\" key has a nested dictionary as its value, representing the subject-wise grades of the student. The nested dictionary has three key-value pairs: \"math\" mapped to 85, \"science\" mapped to 90, and \"history\" mapped to 75.\n",
    "\n",
    "To access values in a nested dictionary, you can use multiple indexing or chaining of keys. For example:\n",
    "\n",
    "print(student[\"name\"])                   # Output: John\n",
    "print(student[\"grades\"][\"science\"])      # Output: 90\n",
    "In the code above, the first line prints the value associated with the \"name\" key, which is \"John\". The second line accesses the nested dictionary associated with the \"grades\" key and retrieves the value associated with the \"science\" key, resulting in the output of 90.\n",
    "\n",
    "Nested dictionaries allow you to represent and organize structured data, such as hierarchical information or multi-level attributes related to a particular entity."
   ]
  },
  {
   "cell_type": "markdown",
   "id": "8a1ca90e-ea12-4893-a94a-362cdda732f1",
   "metadata": {},
   "source": [
    "7. Using setdefault() method, create key named topics in the given dictionary and also add the value of\n",
    "the key as this list ['Python', 'Machine Learning’, 'Deep Learning']\n",
    "dict1 = {'language' : 'Python', 'course': 'Data Science Masters'}"
   ]
  },
  {
   "cell_type": "markdown",
   "id": "e674753a-bea9-4111-88c7-cece3185cff6",
   "metadata": {},
   "source": [
    "Ans:- To add a key named \"topics\" with the value ['Python', 'Machine Learning', 'Deep Learning'] to the given dictionary using the setdefault() method, you can use the following code:\n",
    "\n",
    "python\n",
    "Copy code\n",
    "dict1 = {'language': 'Python', 'course': 'Data Science Masters'}\n",
    "dict1.setdefault('topics', ['Python', 'Machine Learning', 'Deep Learning'])\n",
    "After executing the above code, the dictionary dict1 will have the key \"topics\" added if it doesn't exist, and its corresponding value will be ['Python', 'Machine Learning', 'Deep Learning'].\n",
    "\n",
    "Here's an example of how to access and print the updated dictionary:\n",
    "\n",
    "python\n",
    "Copy code\n",
    "print(dict1)\n",
    "Output:\n",
    "\n",
    "arduino\n",
    "Copy code\n",
    "{'language': 'Python', 'course': 'Data Science Masters', 'topics': ['Python', 'Machine Learning', 'Deep Learning']}\n",
    "In the updated dictionary, the \"topics\" key has been added with the value ['Python', 'Machine Learning', 'Deep Learning'] using the setdefault() method. If the \"topics\" key already existed in the dictionary, the method would not modify its existing value."
   ]
  },
  {
   "cell_type": "markdown",
   "id": "3ed1cbde-d5c1-4de6-b39e-323be73ed407",
   "metadata": {},
   "source": [
    "8. What are the three view objects in dictionaries? Use the three in-built methods in python to display\n",
    "these three view objects for the given dictionary.\n",
    "dict1 = {'Sport': 'Cricket' , 'Teams': ['India', 'Australia', 'England', 'South Africa', 'Sri Lanka', 'New Zealand']}"
   ]
  },
  {
   "cell_type": "markdown",
   "id": "10cf55a7-fcfa-4fdd-9991-304aec90666d",
   "metadata": {},
   "source": [
    "Ans:-  Python, dictionaries provide three view objects that allow you to access and work with different aspects of the dictionary. These view objects are:\n",
    "\n",
    "keys() view: This view object provides a dynamic view of the keys in the dictionary.\n",
    "\n",
    "values() view: This view object provides a dynamic view of the values in the dictionary.\n",
    "\n",
    "items() view: This view object provides a dynamic view of the key-value pairs (items) in the dictionary.\n",
    "\n",
    "Here's how you can use the three built-in methods to display these view objects for the given dictionary dict1:\n",
    "\n",
    "dict1 = {'Sport': 'Cricket', 'Teams': ['India', 'Australia', 'England', 'South Africa', 'Sri Lanka', 'New Zealand']}\n",
    "\n",
    "keys_view = dict1.keys(),\n",
    "values_view = dict1.values(),\n",
    "items_view = dict1.items()\n",
    "\n",
    "print(keys_view)\n",
    "print(values_view)\n",
    "print(items_view)\n",
    "Output:\n",
    "\n",
    "dict_keys(['Sport', 'Teams'])\n",
    "dict_values(['Cricket', ['India', 'Australia', 'England', 'South Africa', 'Sri Lanka', 'New Zealand']])\n",
    "dict_items([('Sport', 'Cricket'), ('Teams', ['India', 'Australia', 'England', 'South Africa', 'Sri Lanka', 'New Zealand'])])\n",
    "\n",
    "In the code above, the keys(), values(), and items() methods are used to obtain the corresponding view objects: keys_view, values_view, and items_view. These view objects are then printed, showing the dynamic representations of the keys, values, and items in the dictionary dict1."
   ]
  },
  {
   "cell_type": "code",
   "execution_count": null,
   "id": "24d189c5-8507-4780-b013-bec634868f95",
   "metadata": {},
   "outputs": [],
   "source": []
  }
 ],
 "metadata": {
  "kernelspec": {
   "display_name": "Python 3 (ipykernel)",
   "language": "python",
   "name": "python3"
  },
  "language_info": {
   "codemirror_mode": {
    "name": "ipython",
    "version": 3
   },
   "file_extension": ".py",
   "mimetype": "text/x-python",
   "name": "python",
   "nbconvert_exporter": "python",
   "pygments_lexer": "ipython3",
   "version": "3.10.8"
  }
 },
 "nbformat": 4,
 "nbformat_minor": 5
}
