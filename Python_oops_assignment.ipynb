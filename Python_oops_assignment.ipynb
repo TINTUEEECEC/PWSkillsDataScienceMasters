{
 "cells": [
  {
   "cell_type": "markdown",
   "id": "efd3f785-ed94-4ed2-a2a2-e648bfd5ebd1",
   "metadata": {},
   "source": [
    "Question 1: Create a vehicle class with an init method having instance variables as name_of_vehicle, max_speed\n",
    "and average_of_vehicle."
   ]
  },
  {
   "cell_type": "code",
   "execution_count": 1,
   "id": "247362e9-95d2-43da-ac1d-95d04f45727f",
   "metadata": {},
   "outputs": [],
   "source": [
    "class Vehicle:\n",
    "    def __init__(self, name_of_vehicle, max_speed, average_of_vehicle):\n",
    "        self.name_of_vehicle = name_of_vehicle\n",
    "        self.max_speed = max_speed\n",
    "        self.average_of_vehicle = average_of_vehicle"
   ]
  },
  {
   "cell_type": "code",
   "execution_count": 2,
   "id": "c1eab28b-75a4-449a-878d-2a444e7552c1",
   "metadata": {},
   "outputs": [
    {
     "name": "stdout",
     "output_type": "stream",
     "text": [
      "Tesla Model S\n",
      "250\n",
      "120\n"
     ]
    }
   ],
   "source": [
    "car = Vehicle(\"Tesla Model S\", 250, 120)\n",
    "print(car.name_of_vehicle)  # Output: Tesla Model S\n",
    "print(car.max_speed)        # Output: 250\n",
    "print(car.average_of_vehicle) # Output: 120"
   ]
  },
  {
   "cell_type": "markdown",
   "id": "043cc2a9-5358-4926-b299-6d8b3ef20055",
   "metadata": {},
   "source": [
    "Question 2: Create a child class car from the vehicle class created in Que 1, which will inherit the vehicle class.\n",
    "Create a method named seating_capacity which takes capacity as an argument and returns the name of\n",
    "the vehicle and its seating capacity."
   ]
  },
  {
   "cell_type": "code",
   "execution_count": 3,
   "id": "9813ad15-c012-4c0b-8a6d-5c244ba4ef8e",
   "metadata": {},
   "outputs": [],
   "source": [
    "class Car(Vehicle):\n",
    "    def seating_capacity(self, capacity):\n",
    "        return f\"The {self.name_of_vehicle} has a seating capacity of {capacity} people.\""
   ]
  },
  {
   "cell_type": "code",
   "execution_count": 6,
   "id": "c3a04bf5-97e8-437a-971d-bb941e44bceb",
   "metadata": {},
   "outputs": [],
   "source": [
    "# print(car.seating_capacity(5))\n",
    "car1 = Car(\"Tesla Model S\", 250, 120)\n"
   ]
  },
  {
   "cell_type": "code",
   "execution_count": 7,
   "id": "d334fd9e-912c-4e2e-89b1-3e8addf0719d",
   "metadata": {},
   "outputs": [
    {
     "data": {
      "text/plain": [
       "'The Tesla Model S has a seating capacity of 5 people.'"
      ]
     },
     "execution_count": 7,
     "metadata": {},
     "output_type": "execute_result"
    }
   ],
   "source": [
    "car1.seating_capacity(5)"
   ]
  },
  {
   "cell_type": "markdown",
   "id": "434c3bea-9392-439d-860d-a3b15c77b2bc",
   "metadata": {},
   "source": [
    "Question 3: What is multiple inheritance? Write a python code to demonstrate multiple inheritance."
   ]
  },
  {
   "cell_type": "markdown",
   "id": "7d8ddffc-c278-4f04-98ca-f9abd867ee99",
   "metadata": {},
   "source": [
    "Multiple inheritance is a feature in object-oriented programming where a class can inherit attributes and methods from multiple parent classes. It allows a subclass to inherit from more than one base class, incorporating their features into a single derived class."
   ]
  },
  {
   "cell_type": "code",
   "execution_count": 8,
   "id": "55a908f7-8767-4157-9ec8-1432ded8f882",
   "metadata": {},
   "outputs": [
    {
     "name": "stdout",
     "output_type": "stream",
     "text": [
      "Buddy is eating.\n",
      "Buddy is sleeping.\n",
      "Dog is giving birth.\n",
      "Buddy is barking.\n"
     ]
    }
   ],
   "source": [
    "class Animal:\n",
    "    def __init__(self, name):\n",
    "        self.name = name\n",
    "\n",
    "    def eat(self):\n",
    "        print(f\"{self.name} is eating.\")\n",
    "\n",
    "    def sleep(self):\n",
    "        print(f\"{self.name} is sleeping.\")\n",
    "\n",
    "\n",
    "class Mammal:\n",
    "    def __init__(self, species):\n",
    "        self.species = species\n",
    "\n",
    "    def give_birth(self):\n",
    "        print(f\"{self.species} is giving birth.\")\n",
    "\n",
    "\n",
    "class Dog(Animal, Mammal):\n",
    "    def __init__(self, name, breed):\n",
    "        Animal.__init__(self, name)\n",
    "        Mammal.__init__(self, \"Dog\")\n",
    "        self.breed = breed\n",
    "\n",
    "    def bark(self):\n",
    "        print(f\"{self.name} is barking.\")\n",
    "\n",
    "\n",
    "# Create an instance of the Dog class\n",
    "dog = Dog(\"Buddy\", \"Golden Retriever\")\n",
    "\n",
    "# Call methods inherited from Animal class\n",
    "dog.eat()      # Output: Buddy is eating.\n",
    "dog.sleep()    # Output: Buddy is sleeping.\n",
    "\n",
    "# Call methods inherited from Mammal class\n",
    "dog.give_birth()  # Output: Dog is giving birth.\n",
    "\n",
    "# Call method specific to the Dog class\n",
    "dog.bark()     # Output: Buddy is barking.\n"
   ]
  },
  {
   "cell_type": "markdown",
   "id": "20fd71fe-19b7-46fd-a4a7-4b0b222a552a",
   "metadata": {},
   "source": [
    "Question 4: What are getter and setter in python? Create a class and create a getter and a setter method in this\n",
    "class."
   ]
  },
  {
   "cell_type": "markdown",
   "id": "0efde446-0be7-459c-a96a-0d2e914305aa",
   "metadata": {},
   "source": [
    "In Python, getters and setters are methods used to access and modify the values of class attributes or properties. They provide a controlled way to retrieve and update the values of private or protected attributes, encapsulating the implementation details of the class."
   ]
  },
  {
   "cell_type": "code",
   "execution_count": 10,
   "id": "afceab3f-ebd9-43de-8b66-29aed4f0a788",
   "metadata": {},
   "outputs": [
    {
     "name": "stdout",
     "output_type": "stream",
     "text": [
      "Alice\n",
      "Bob\n"
     ]
    }
   ],
   "source": [
    "class Person:\n",
    "    def __init__(self, name):\n",
    "        self._name = name\n",
    "\n",
    "    def get_name(self):\n",
    "        return self._name\n",
    "\n",
    "    def set_name(self, name):\n",
    "        self._name = name\n",
    "\n",
    "person = Person(\"Alice\")\n",
    "print(person.get_name())  # Output: Alice\n",
    "\n",
    "person.set_name(\"Bob\")\n",
    "print(person.get_name())  # Output: Bob"
   ]
  },
  {
   "cell_type": "markdown",
   "id": "1b1a23a3-3696-4933-ad97-d402f0d31895",
   "metadata": {},
   "source": [
    "Question 5: What is method overriding in python? Write a python code to demonstrate method overriding."
   ]
  },
  {
   "cell_type": "code",
   "execution_count": 11,
   "id": "c73de83b-fd1c-4741-a06f-6a1f6debbf4b",
   "metadata": {},
   "outputs": [
    {
     "name": "stdout",
     "output_type": "stream",
     "text": [
      "Calculating area of a rectangle.\n",
      "Calculating area of a circle.\n"
     ]
    }
   ],
   "source": [
    "class Shape:\n",
    "    def area(self):\n",
    "        print(\"Calculating area of a shape.\")\n",
    "\n",
    "\n",
    "class Rectangle(Shape):\n",
    "    def area(self):\n",
    "        print(\"Calculating area of a rectangle.\")\n",
    "\n",
    "\n",
    "class Circle(Shape):\n",
    "    def area(self):\n",
    "        print(\"Calculating area of a circle.\")\n",
    "\n",
    "\n",
    "# Create instances of the subclasses\n",
    "rectangle = Rectangle()\n",
    "circle = Circle()\n",
    "\n",
    "# Call the overridden methods\n",
    "rectangle.area()  # Output: Calculating area of a rectangle.\n",
    "circle.area()     # Output: Calculating area of a circle.\n"
   ]
  }
 ],
 "metadata": {
  "kernelspec": {
   "display_name": "Python 3 (ipykernel)",
   "language": "python",
   "name": "python3"
  },
  "language_info": {
   "codemirror_mode": {
    "name": "ipython",
    "version": 3
   },
   "file_extension": ".py",
   "mimetype": "text/x-python",
   "name": "python",
   "nbconvert_exporter": "python",
   "pygments_lexer": "ipython3",
   "version": "3.10.8"
  }
 },
 "nbformat": 4,
 "nbformat_minor": 5
}
