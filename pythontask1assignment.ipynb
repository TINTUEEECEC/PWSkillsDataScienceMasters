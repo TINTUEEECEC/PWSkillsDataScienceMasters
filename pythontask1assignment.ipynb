{
 "cells": [
  {
   "cell_type": "markdown",
   "id": "74b8f52d-d18f-48cc-a247-7ae2228abe53",
   "metadata": {},
   "source": [
    "1. Create a function which will take a list as an argument and return the product of all the numbers\n",
    "after creating a flat list.\n",
    "Use the below-given list as an argument for your function.\n",
    "list1 = [1,2,3,4, [44,55,66, True], False, (34,56,78,89,34), {1,2,3,3,2,1}, {1:34, \"key2\": [55, 67, 78, 89], 4: (45,\n",
    "22, 61, 34)}, [56, 'data science'], 'Machine Learning']\n",
    "Note: you must extract numeric keys and values of the dictionary also."
   ]
  },
  {
   "cell_type": "code",
   "execution_count": 1,
   "id": "48605b04-ccc9-4d49-88ff-677da40d3fc4",
   "metadata": {},
   "outputs": [
    {
     "name": "stdout",
     "output_type": "stream",
     "text": [
      "[1, 2, 3, 4, 44, 55, 66, 34, 56, 78, 89, 34, 1, 2, 3, 1, 4, 34, 55, 67, 78, 89, 56]\n"
     ]
    }
   ],
   "source": [
    "flattenlist = []\n",
    "def listintegerprod(list1):\n",
    "    for i in list1:\n",
    "        if type(i) == int:\n",
    "            flattenlist.append(i)\n",
    "        if type(i) == list or type(i) == tuple or type(i) == set:\n",
    "            for x in i:\n",
    "                if type(x) == int:\n",
    "                    flattenlist.append(x)\n",
    "        if type(i) == dict:\n",
    "            for x in i.keys():\n",
    "                if type(x) == int:\n",
    "                    flattenlist.append(x)\n",
    "            for x in i.values():\n",
    "                if type(x) == int:\n",
    "                    flattenlist.append(x)\n",
    "                if type(x) == list or type(i) == tuple:\n",
    "                    for y in x:\n",
    "                        if type(y) == int:\n",
    "                            flattenlist.append(y)\n",
    "    print(flattenlist)\n",
    "list1 = [1, 2, 3, 4, [44, 55, 66, True], False, (34, 56, 78, 89, 34), {1, 2, 3, 3, 2, 1},\n",
    "         {1: 34, \"key2\": [55, 67, 78, 89], 4: (45, 22, 61, 34)}, [56, 'data science'], 'Machine Learning']\n",
    "listintegerprod(list1)"
   ]
  },
  {
   "cell_type": "markdown",
   "id": "df5c1f1a-7df4-4ded-bff4-435ce5527366",
   "metadata": {},
   "source": [
    "2. Write a python program for encrypting a message sent to you by your friend. The logic of encryption\n",
    "should be such that, for a the output should be z. For b, the output should be y. For c, the output should\n",
    "be x respectively. Also, the whitespace should be replaced with a dollar sign. Keep the punctuation\n",
    "marks unchanged.\n",
    "Input Sentence: I want to become a Data Scientist.\n",
    "Encrypt the above input sentence using the program you just created.\n",
    "Note: Convert the given input sentence into lowercase before encrypting. The final output should be\n",
    "lowercase."
   ]
  },
  {
   "cell_type": "code",
   "execution_count": 2,
   "id": "c81a72cd-629e-47d0-8539-2db63f194c1c",
   "metadata": {},
   "outputs": [
    {
     "name": "stdin",
     "output_type": "stream",
     "text": [
      "Enter the message to encrypt I want to become a Data Scientist.\n"
     ]
    },
    {
     "name": "stdout",
     "output_type": "stream",
     "text": [
      "The Encrypted message is r$dzmg$gl$yvxlnv$z$wzgz$hxrvmgrhg.\n"
     ]
    }
   ],
   "source": [
    "c = input (\"Enter the message to encrypt\")\n",
    "# encrypt = [chr(ord(\"z\")-ord(i)+ord(\"a\")) if ord(i) < 123 and ord(i) > 96 else i for i in c.lower()]\n",
    "finencrypt = [chr(36) if i == \" \" else i for i in [chr(ord(\"z\")-ord(i)+ord(\"a\")) if ord(i) < 123 and ord(i) > 96 else i for i in c.lower()]]\n",
    "print(\"The Encrypted message is\",''.join(finencrypt))"
   ]
  }
 ],
 "metadata": {
  "kernelspec": {
   "display_name": "Python 3 (ipykernel)",
   "language": "python",
   "name": "python3"
  },
  "language_info": {
   "codemirror_mode": {
    "name": "ipython",
    "version": 3
   },
   "file_extension": ".py",
   "mimetype": "text/x-python",
   "name": "python",
   "nbconvert_exporter": "python",
   "pygments_lexer": "ipython3",
   "version": "3.10.8"
  }
 },
 "nbformat": 4,
 "nbformat_minor": 5
}
